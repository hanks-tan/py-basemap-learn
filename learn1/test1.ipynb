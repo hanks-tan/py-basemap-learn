{
 "metadata": {
  "language_info": {
   "codemirror_mode": {
    "name": "ipython",
    "version": 3
   },
   "file_extension": ".py",
   "mimetype": "text/x-python",
   "name": "python",
   "nbconvert_exporter": "python",
   "pygments_lexer": "ipython3",
   "version": "3.7.3"
  },
  "orig_nbformat": 2,
  "kernelspec": {
   "name": "python373jvsc74a57bd0b3ba2566441a7c06988d0923437866b63cedc61552a5af99d1f4fb67d367b25f",
   "display_name": "Python 3.7.3 64-bit ('base': conda)"
  }
 },
 "nbformat": 4,
 "nbformat_minor": 2,
 "cells": [
  {
   "source": [
    "# 1.Basemap 画一个简单的地图"
   ],
   "cell_type": "markdown",
   "metadata": {}
  },
  {
   "cell_type": "code",
   "execution_count": null,
   "metadata": {},
   "outputs": [],
   "source": [
    "from mpl_toolkits.basemap import Basemap\n",
    "import matplotlib.pyplot as plt\n",
    "\n",
    "map = Basemap()\n",
    "\n",
    "map.drawcoastlines()\n",
    "\n"
   ]
  },
  {
   "source": [
    "# 2.填充颜色"
   ],
   "cell_type": "markdown",
   "metadata": {}
  },
  {
   "cell_type": "code",
   "execution_count": null,
   "metadata": {},
   "outputs": [],
   "source": [
    "from mpl_toolkits.basemap import Basemap\n",
    "import matplotlib.pyplot as plt\n",
    "\n",
    "map = Basemap()\n",
    "\n",
    "map.drawmapboundary(fill_color = 'aqua') #底色\n",
    "map.fillcontinents(color = 'coral', lake_color = 'aqua') # 陆地上色\n",
    "map.drawcoastlines()\n",
    "\n",
    "plt.show()"
   ]
  },
  {
   "source": [
    "# 3.投影"
   ],
   "cell_type": "markdown",
   "metadata": {}
  },
  {
   "cell_type": "code",
   "execution_count": null,
   "metadata": {},
   "outputs": [],
   "source": [
    "from mpl_toolkits.basemap import Basemap\n",
    "import matplotlib.pyplot as plt\n",
    "\n",
    "map = Basemap(projection = 'cyl')\n",
    "\n",
    "map.drawmapboundary(fill_color = 'aqua') #底色\n",
    "map.fillcontinents(color = 'coral', lake_color = 'aqua') # 陆地上色\n",
    "map.drawcoastlines()\n",
    "\n",
    "plt.show()"
   ]
  },
  {
   "source": [
    " cyl、merc、mill、cea、gall 等几个投影，后面不用带参数，默认范围是[-180,-90, 180, 90]。其它投影需要设置后面需要带一些参数，否则会报错。\n",
    " cyl、merc、mill、cea、gall这几个投影代表啥？"
   ],
   "cell_type": "markdown",
   "metadata": {}
  },
  {
   "source": [
    "from mpl_toolkits.basemap import Basemap\n",
    "import matplotlib.pyplot as plt\n",
    "\n",
    "map = Basemap(projection= 'aeqd', lon_0 = 0, lat_0 = 0)\n",
    "\n",
    "map.drawmapboundary(fill_color = 'aqua') #底色\n",
    "map.fillcontinents(color = 'coral', lake_color = 'aqua') # 陆地上色\n",
    "map.drawcoastlines()\n",
    "\n",
    "plt.show()"
   ],
   "cell_type": "code",
   "metadata": {},
   "execution_count": null,
   "outputs": []
  },
  {
   "source": [
    "## 使用EPSG编号代替投影"
   ],
   "cell_type": "markdown",
   "metadata": {}
  },
  {
   "cell_type": "code",
   "execution_count": null,
   "metadata": {},
   "outputs": [],
   "source": [
    "from mpl_toolkits.basemap import Basemap\n",
    "import matplotlib.pyplot as plt\n",
    "\n",
    "map = Basemap(epsg='4326')\n",
    "\n",
    "map.drawmapboundary(fill_color = 'aqua') #底色\n",
    "map.fillcontinents(color = 'coral', lake_color = 'aqua') # 陆地上色\n",
    "map.drawcoastlines()\n",
    "\n",
    "plt.show()"
   ]
  },
  {
   "source": [
    "# 5.指定范围\n",
    "## 根据四至"
   ],
   "cell_type": "markdown",
   "metadata": {}
  },
  {
   "cell_type": "code",
   "execution_count": null,
   "metadata": {},
   "outputs": [],
   "source": [
    "from mpl_toolkits.basemap import Basemap\n",
    "import matplotlib.pyplot as plt\n",
    "\n",
    "map = Basemap(epsg = '4326', llcrnrlon=73, llcrnrlat=2, urcrnrlon=180., urcrnrlat=70)\n",
    "\n",
    "map.drawmapboundary(fill_color = 'aqua') #底色\n",
    "map.fillcontinents(color = 'coral', lake_color = 'aqua') # 陆地上色\n",
    "map.drawcoastlines()\n",
    "\n",
    "plt.show()"
   ]
  },
  {
   "source": [
    "# 6.画一个点"
   ],
   "cell_type": "markdown",
   "metadata": {}
  },
  {
   "cell_type": "code",
   "execution_count": null,
   "metadata": {},
   "outputs": [],
   "source": [
    "from mpl_toolkits.basemap import Basemap\n",
    "import matplotlib.pyplot as plt\n",
    "\n",
    "map = Basemap(epsg='4326')\n",
    "\n",
    "map.drawcoastlines()\n",
    "map.drawmapboundary(fill_color = 'aqua') #底色\n",
    "map.fillcontinents(color = 'coral', lake_color = 'aqua') # 陆地上色\n",
    "\n",
    "x, y = map(0, 0)\n",
    "map.plot(x, y, marker='D',color='m')\n",
    "plt.show()"
   ]
  },
  {
   "cell_type": "code",
   "execution_count": null,
   "metadata": {},
   "outputs": [],
   "source": []
  }
 ]
}