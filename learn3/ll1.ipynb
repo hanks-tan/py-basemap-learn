{
 "metadata": {
  "language_info": {
   "codemirror_mode": {
    "name": "ipython",
    "version": 3
   },
   "file_extension": ".py",
   "mimetype": "text/x-python",
   "name": "python",
   "nbconvert_exporter": "python",
   "pygments_lexer": "ipython3",
   "version": "3.7.3"
  },
  "orig_nbformat": 2,
  "kernelspec": {
   "name": "python373jvsc74a57bd0b3ba2566441a7c06988d0923437866b63cedc61552a5af99d1f4fb67d367b25f",
   "display_name": "Python 3.7.3 64-bit ('base': conda)"
  }
 },
 "nbformat": 4,
 "nbformat_minor": 2,
 "cells": [
  {
   "source": [
    "# 1.画栅格图"
   ],
   "cell_type": "markdown",
   "metadata": {}
  },
  {
   "cell_type": "code",
   "execution_count": null,
   "metadata": {},
   "outputs": [],
   "source": [
    "from mpl_toolkits.basemap import Basemap\n",
    "import matplotlib.pyplot as plt\n",
    "from osgeo import gdal\n",
    "from numpy import linspace\n",
    "from numpy import meshgrid\n",
    "\n",
    "map = Basemap(epsg=\"4326\",\n",
    "llcrnrlon=113.8729566,\n",
    "llcrnrlat=22.3338476,\n",
    "urcrnrlon=114.4635466,\n",
    "urcrnrlat=22.74776935)\n",
    "\n",
    "# 使用栅格图作为画图的数据源\n",
    "ds = gdal.Open(\"sz.tif\")\n",
    "data = ds.ReadAsArray()\n",
    "\n",
    "x = linspace(113.8729566, map.urcrnrx, data.shape[1])\n",
    "y = linspace(22.333847, map.urcrnry, data.shape[0])\n",
    "xx, yy = meshgrid(x, y)\n",
    "map.contourf(xx, yy, data)\n",
    "plt.show()\n"
   ]
  },
  {
   "source": [
    "这个结果和原dem图似乎对不上。\n",
    "\n",
    "经对比，图像在垂直方向上是反的。"
   ],
   "cell_type": "markdown",
   "metadata": {}
  },
  {
   "source": [
    "# 数据倒置"
   ],
   "cell_type": "markdown",
   "metadata": {}
  },
  {
   "cell_type": "code",
   "execution_count": null,
   "metadata": {},
   "outputs": [],
   "source": [
    "from mpl_toolkits.basemap import Basemap\n",
    "import matplotlib.pyplot as plt\n",
    "from osgeo import gdal\n",
    "from numpy import linspace\n",
    "from numpy import meshgrid\n",
    "import numpy as np\n",
    "\n",
    "map = Basemap(epsg=\"4326\",\n",
    "llcrnrlon=113.8729566,\n",
    "llcrnrlat=22.3338476,\n",
    "urcrnrlon=114.4635466,\n",
    "urcrnrlat=22.74776935)\n",
    "\n",
    "# 使用栅格图作为画图的数据源\n",
    "ds = gdal.Open(\"sz.tif\")\n",
    "data = ds.ReadAsArray()\n",
    "\n",
    "x = linspace(113.8729566, map.urcrnrx, data.shape[1])\n",
    "y = linspace(22.333847, map.urcrnry, data.shape[0])\n",
    "xx, yy = meshgrid(x, y)\n",
    "\n",
    "# 数据倒置\n",
    "data1 = np.flipud(data)\n",
    "map.contourf(xx, yy,  data1)\n",
    "plt.show()\n"
   ]
  },
  {
   "source": [
    "这里猜测是，gdal读取栅格数据时，是从左下角开始从左向右，从下往上。因此data内的数据，也是按这个顺序排列。而basemap绘图时，所需的数据排列应该是从右上角开始，从左向右，从上往下。"
   ],
   "cell_type": "markdown",
   "metadata": {}
  },
  {
   "source": [
    "# 2.网格点数据绘制栅格"
   ],
   "cell_type": "markdown",
   "metadata": {}
  },
  {
   "cell_type": "code",
   "execution_count": null,
   "metadata": {},
   "outputs": [],
   "source": [
    "from mpl_toolkits.basemap import Basemap\n",
    "import matplotlib.pyplot as plt\n",
    "import numpy as np\n",
    "from scipy.interpolate import griddata\n",
    "\n",
    "def interp(points, values, grid, interpMethod):\n",
    "    # interpMethod = 'linear'\n",
    "    return griddata(points, values, grid, method=interpMethod)\n",
    "\n",
    "map = Basemap(epsg=\"4326\",\n",
    "llcrnrlon=0,\n",
    "llcrnrlat=0,\n",
    "urcrnrlon=180,\n",
    "urcrnrlat=90)\n",
    "\n",
    "# 构造一个[0, 0, 180, 90]行、列宽均为1°的网格\n",
    "x = np.linspace(0, 180, 91)\n",
    "y = np.linspace(0, 90, 91)\n",
    "xx, yy = np.meshgrid(x, y)\n",
    "\n",
    "# 随机生成100个点\n",
    "px = np.random.randint(1, 180, 100)\n",
    "py = np.random.randint(1, 90, 100)\n",
    "points = np.c_[px, py] # 注意 这里是中括号\n",
    "\n",
    "# 随机生成100条抽样数据\n",
    "pointData = np.random.randint(1, 100, 100)\n",
    "\n",
    "# 采用插值法, 生成插值结果\n",
    "gridZ = griddata(points, pointData, (xx,yy), method=\"linear\")\n",
    "\n",
    "# 绘制等值面\n",
    "map.contourf(xx, yy, gridZ, 20, cmap='winter')\n",
    "\n",
    "plt.show()"
   ]
  },
  {
   "source": [
    "上面随机生成了一些散点数据，然后把这些采用插值法生成插值结果，最后通过绘制等值面来把结果呈现出来.\n",
    "由于数据采用的是随机的，所以结果看上去杂乱无章。"
   ],
   "cell_type": "markdown",
   "metadata": {}
  },
  {
   "source": [
    "# 3.绘制散点\n",
    "\n",
    "在上面的基础上，可以把散点图加上"
   ],
   "cell_type": "markdown",
   "metadata": {}
  },
  {
   "cell_type": "code",
   "execution_count": null,
   "metadata": {},
   "outputs": [],
   "source": [
    "from mpl_toolkits.basemap import Basemap\n",
    "import matplotlib.pyplot as plt\n",
    "import numpy as np\n",
    "from scipy.interpolate import griddata\n",
    "\n",
    "def interp(points, values, grid, interpMethod):\n",
    "    # interpMethod = 'linear'\n",
    "    return griddata(points, values, grid, method=interpMethod)\n",
    "\n",
    "map = Basemap(epsg=\"4326\",\n",
    "llcrnrlon=0,\n",
    "llcrnrlat=0,\n",
    "urcrnrlon=180,\n",
    "urcrnrlat=90)\n",
    "\n",
    "# 构造一个[0, 0, 180, 90]行、列宽均为1°的网格\n",
    "x = np.linspace(0, 180, 91)\n",
    "y = np.linspace(0, 90, 91)\n",
    "xx, yy = np.meshgrid(x, y)\n",
    "\n",
    "# 随机生成100个点\n",
    "px = np.random.randint(1, 180, 100)\n",
    "py = np.random.randint(1, 90, 100)\n",
    "points = np.c_[px, py] # 注意 这里是中括号\n",
    "\n",
    "# 随机生成100条抽样数据\n",
    "pointData = np.random.randint(1, 100, 100)\n",
    "\n",
    "# 采用插值法, 生成插值结果\n",
    "gridZ = griddata(points, pointData, (xx,yy), method=\"linear\")\n",
    "\n",
    "# 绘制等值面\n",
    "map.contourf(xx, yy, gridZ, 20, cmap='winter')\n",
    "\n",
    "map.scatter(px, py, s=20, c='r',alpha=0.7, zorder=10)\n",
    "\n",
    "plt.show()"
   ]
  },
  {
   "source": [
    "上面采用固定大小的点来绘制散点图"
   ],
   "cell_type": "markdown",
   "metadata": {}
  },
  {
   "cell_type": "code",
   "execution_count": null,
   "metadata": {},
   "outputs": [],
   "source": [
    "from mpl_toolkits.basemap import Basemap\n",
    "import matplotlib.pyplot as plt\n",
    "import numpy as np\n",
    "from scipy.interpolate import griddata\n",
    "\n",
    "def interp(points, values, grid, interpMethod):\n",
    "    # interpMethod = 'linear'\n",
    "    return griddata(points, values, grid, method=interpMethod)\n",
    "\n",
    "map = Basemap(epsg=\"4326\",\n",
    "llcrnrlon=0,\n",
    "llcrnrlat=0,\n",
    "urcrnrlon=180,\n",
    "urcrnrlat=90)\n",
    "\n",
    "# 构造一个[0, 0, 180, 90]行、列宽均为1°的网格\n",
    "x = np.linspace(0, 180, 91)\n",
    "y = np.linspace(0, 90, 91)\n",
    "xx, yy = np.meshgrid(x, y)\n",
    "\n",
    "# 随机生成100个点\n",
    "px = np.random.randint(1, 180, 100)\n",
    "py = np.random.randint(1, 90, 100)\n",
    "points = np.c_[px, py] # 注意 这里是中括号\n",
    "\n",
    "# 随机生成100条抽样数据\n",
    "pointData = np.random.randint(1, 100, 100)\n",
    "\n",
    "# 采用插值法, 生成插值结果\n",
    "gridZ = griddata(points, pointData, (xx,yy), method=\"linear\")\n",
    "\n",
    "# 绘制等值面\n",
    "map.contourf(xx, yy, gridZ, 20, cmap='winter')\n",
    "\n",
    "size = np.random.randint(10, 100, 20)\n",
    "map.scatter(px, py, s=size, c='r',alpha=0.7, zorder=10)\n",
    "\n",
    "plt.show()"
   ]
  },
  {
   "cell_type": "code",
   "execution_count": null,
   "metadata": {},
   "outputs": [],
   "source": []
  }
 ]
}