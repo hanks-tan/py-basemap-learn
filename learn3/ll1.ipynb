{
 "metadata": {
  "language_info": {
   "codemirror_mode": {
    "name": "ipython",
    "version": 3
   },
   "file_extension": ".py",
   "mimetype": "text/x-python",
   "name": "python",
   "nbconvert_exporter": "python",
   "pygments_lexer": "ipython3",
   "version": "3.7.3"
  },
  "orig_nbformat": 2,
  "kernelspec": {
   "name": "python373jvsc74a57bd0b3ba2566441a7c06988d0923437866b63cedc61552a5af99d1f4fb67d367b25f",
   "display_name": "Python 3.7.3 64-bit ('base': conda)"
  }
 },
 "nbformat": 4,
 "nbformat_minor": 2,
 "cells": [
  {
   "source": [
    "# 1.画栅格图"
   ],
   "cell_type": "markdown",
   "metadata": {}
  },
  {
   "cell_type": "code",
   "execution_count": null,
   "metadata": {},
   "outputs": [],
   "source": [
    "from mpl_toolkits.basemap import Basemap\n",
    "import matplotlib.pyplot as plt\n",
    "from osgeo import gdal\n",
    "from numpy import linspace\n",
    "from numpy import meshgrid\n",
    "\n",
    "map = Basemap(epsg=\"4326\",\n",
    "llcrnrlon=113.8729566,\n",
    "llcrnrlat=22.3338476,\n",
    "urcrnrlon=114.4635466,\n",
    "urcrnrlat=22.74776935)\n",
    "\n",
    "# 使用栅格图作为画图的数据源\n",
    "ds = gdal.Open(\"sz.tif\")\n",
    "data = ds.ReadAsArray()\n",
    "\n",
    "x = linspace(113.8729566, map.urcrnrx, data.shape[1])\n",
    "y = linspace(22.333847, map.urcrnry, data.shape[0])\n",
    "xx, yy = meshgrid(x, y)\n",
    "map.contourf(xx, yy, data)\n",
    "plt.show()\n"
   ]
  },
  {
   "source": [
    "这个结果和原dem图似乎对不上。\n",
    "\n",
    "经对比，图像在垂直方向上是反的。"
   ],
   "cell_type": "markdown",
   "metadata": {}
  },
  {
   "source": [
    "# 数据倒置"
   ],
   "cell_type": "markdown",
   "metadata": {}
  },
  {
   "cell_type": "code",
   "execution_count": null,
   "metadata": {},
   "outputs": [],
   "source": [
    "from mpl_toolkits.basemap import Basemap\n",
    "import matplotlib.pyplot as plt\n",
    "from osgeo import gdal\n",
    "from numpy import linspace\n",
    "from numpy import meshgrid\n",
    "import numpy as np\n",
    "\n",
    "map = Basemap(epsg=\"4326\",\n",
    "llcrnrlon=113.8729566,\n",
    "llcrnrlat=22.3338476,\n",
    "urcrnrlon=114.4635466,\n",
    "urcrnrlat=22.74776935)\n",
    "\n",
    "# 使用栅格图作为画图的数据源\n",
    "ds = gdal.Open(\"sz.tif\")\n",
    "data = ds.ReadAsArray()\n",
    "\n",
    "x = linspace(113.8729566, map.urcrnrx, data.shape[1])\n",
    "y = linspace(22.333847, map.urcrnry, data.shape[0])\n",
    "xx, yy = meshgrid(x, y)\n",
    "\n",
    "# 数据倒置\n",
    "data1 = np.flipud(data)\n",
    "map.contourf(xx, yy,  data1)\n",
    "plt.show()\n"
   ]
  },
  {
   "cell_type": "code",
   "execution_count": null,
   "metadata": {},
   "outputs": [],
   "source": []
  }
 ]
}