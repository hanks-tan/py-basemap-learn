{
 "metadata": {
  "language_info": {
   "codemirror_mode": {
    "name": "ipython",
    "version": 3
   },
   "file_extension": ".py",
   "mimetype": "text/x-python",
   "name": "python",
   "nbconvert_exporter": "python",
   "pygments_lexer": "ipython3",
   "version": "3.7.3"
  },
  "orig_nbformat": 2,
  "kernelspec": {
   "name": "python373jvsc74a57bd0b3ba2566441a7c06988d0923437866b63cedc61552a5af99d1f4fb67d367b25f",
   "display_name": "Python 3.7.3 64-bit ('base': conda)"
  }
 },
 "nbformat": 4,
 "nbformat_minor": 2,
 "cells": [
  {
   "source": [
    "# 1.画栅格图"
   ],
   "cell_type": "markdown",
   "metadata": {}
  },
  {
   "cell_type": "code",
   "execution_count": null,
   "metadata": {},
   "outputs": [],
   "source": [
    "from mpl_toolkits.basemap import Basemap\n",
    "import matplotlib.pyplot as plt\n",
    "from osgeo import gdal\n",
    "from numpy import linspace\n",
    "from numpy import meshgrid\n",
    "\n",
    "map = Basemap(epsg=\"4326\",\n",
    "llcrnrlon=113.8729566,\n",
    "llcrnrlat=22.3338476,\n",
    "urcrnrlon=114.4635466,\n",
    "urcrnrlat=22.74776935)\n",
    "\n",
    "# 使用栅格图作为画图的数据源\n",
    "ds = gdal.Open(\"sz.tif\")\n",
    "data = ds.ReadAsArray()\n",
    "\n",
    "x = linspace(113.8729566, map.urcrnrx, data.shape[1])\n",
    "y = linspace(22.333847, map.urcrnry, data.shape[0])\n",
    "xx, yy = meshgrid(x, y)\n",
    "map.contourf(xx, yy, data)\n",
    "plt.show()\n"
   ]
  },
  {
   "source": [
    "这个结果和原dem图似乎对不上。"
   ],
   "cell_type": "markdown",
   "metadata": {}
  }
 ]
}