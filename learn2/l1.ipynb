{
 "metadata": {
  "orig_nbformat": 2,
  "kernelspec": {
   "name": "python3",
   "display_name": "Python 3",
   "language": "python"
  }
 },
 "nbformat": 4,
 "nbformat_minor": 2,
 "cells": [
  {
   "source": [
    "# 1.画布设置"
   ],
   "cell_type": "markdown",
   "metadata": {}
  },
  {
   "source": [
    "## 1.1使用默认"
   ],
   "cell_type": "markdown",
   "metadata": {}
  },
  {
   "cell_type": "code",
   "execution_count": null,
   "metadata": {},
   "outputs": [],
   "source": [
    "from mpl_toolkits.basemap import Basemap\n",
    "import matplotlib.pyplot as plt\n",
    "\n",
    "fig, ax = plt.subplots()\n",
    "\n",
    "map = Basemap(ax=ax)\n",
    "map.drawmapboundary(fill_color = 'aqua') #底色\n",
    "map.fillcontinents(color = 'coral', lake_color = 'aqua') # 陆地上色\n",
    "map.drawcoastlines()\n",
    "\n",
    "plt.show()"
   ]
  },
  {
   "source": [
    "## 1.2设置图像尺寸和分辨率"
   ],
   "cell_type": "markdown",
   "metadata": {}
  },
  {
   "cell_type": "code",
   "execution_count": null,
   "metadata": {},
   "outputs": [],
   "source": [
    "from mpl_toolkits.basemap import Basemap\n",
    "import matplotlib.pyplot as plt\n",
    "\n",
    "fig=plt.figure(figsize=(8, 8), dpi=96)\n",
    "ax = fig.add_axes([0.1, 0.1, 0.8, 0.8])\n",
    "\n",
    "map = Basemap(ax=ax)\n",
    "map.drawmapboundary(fill_color = 'aqua') #底色\n",
    "map.fillcontinents(color = 'coral', lake_color = 'aqua') # 陆地上色\n",
    "map.drawcoastlines()\n",
    "\n",
    "plt.show()"
   ]
  },
  {
   "source": [
    "plt.figure方法的figsize指定图像大小，单位英寸，dpi指定分辨率，即每英寸有多少像素。如上设置，最终的图像大小为768*768像素\n",
    "\n",
    "fig.add_axes 是像figure新添加一个子区域，[0.1, 0.1, 0.8, 0.8]分别代表left, bottom, width, height，即从左下10%开始绘制，高宽分别用80%"
   ],
   "cell_type": "markdown",
   "metadata": {}
  },
  {
   "source": [
    "2. 设置标题"
   ],
   "cell_type": "markdown",
   "metadata": {}
  },
  {
   "cell_type": "code",
   "execution_count": null,
   "metadata": {},
   "outputs": [],
   "source": [
    "from mpl_toolkits.basemap import Basemap\n",
    "import matplotlib.pyplot as plt\n",
    "\n",
    "fig=plt.figure(figsize=(8, 8), dpi=96)\n",
    "ax = fig.add_axes([0.1, 0.1, 0.8, 0.8])\n",
    "ax.set_title('World')\n",
    "\n",
    "map = Basemap(ax=ax)\n",
    "map.drawmapboundary(fill_color = 'aqua') #底色\n",
    "map.fillcontinents(color = 'coral', lake_color = 'aqua') # 陆地上色\n",
    "map.drawcoastlines()\n",
    "\n",
    "plt.show()"
   ]
  },
  {
   "source": [
    "# 3.在一幅图上同时绘制多个子图\n"
   ],
   "cell_type": "markdown",
   "metadata": {}
  },
  {
   "cell_type": "code",
   "execution_count": null,
   "metadata": {},
   "outputs": [],
   "source": [
    "import matplotlib.pyplot as plt\n",
    "import numpy as np\n",
    "\n",
    "x = np.arange(0, 100)\n",
    "\n",
    "fig, axs= plt.subplots(2, 2, figsize=(5, 5))\n",
    "\n",
    "axs[0, 0].plot(x, x)\n",
    "axs[0, 1].plot(x, -x)\n",
    "axs[1, 0].plot(-x, x)\n",
    "axs[1, 1].plot(-x, -x)\n",
    "plt.show()"
   ]
  },
  {
   "source": [
    "plt.subplots 创建了一个2*2的子图区域，然后可以更加行列号去访问每个子图"
   ],
   "cell_type": "markdown",
   "metadata": {}
  },
  {
   "source": [
    "## 同时画多个地图"
   ],
   "cell_type": "markdown",
   "metadata": {}
  },
  {
   "cell_type": "code",
   "execution_count": null,
   "metadata": {},
   "outputs": [],
   "source": [
    "from mpl_toolkits.basemap import Basemap\n",
    "import matplotlib.pyplot as plt\n",
    "\n",
    "fig, axs= plt.subplots(2, 2, figsize=(5, 5))\n",
    "\n",
    "for i in [0, 1]:\n",
    "    yRange = [90 *(1 -i), -90 * i]\n",
    "    for j in [0, 1]:\n",
    "        xRange = [180 * (j - 1), 180 * j]\n",
    "        map = Basemap(epsg = '4326', llcrnrlon=xRange[0], llcrnrlat=yRange[1], urcrnrlon=xRange[1], urcrnrlat=yRange[0], ax=axs[i, j])\n",
    "        map.drawmapboundary(fill_color = 'aqua') #底色\n",
    "        map.fillcontinents(color = 'coral', lake_color = 'aqua') # 陆地上色\n",
    "        map.drawcoastlines()\n",
    "\n",
    "plt.show()"
   ]
  },
  {
   "source": [
    "# 4.画图中图"
   ],
   "cell_type": "markdown",
   "metadata": {}
  },
  {
   "cell_type": "code",
   "execution_count": null,
   "metadata": {},
   "outputs": [],
   "source": [
    "from mpl_toolkits.basemap import Basemap\n",
    "import matplotlib.pyplot as plt\n",
    "\n",
    "fig=plt.figure(figsize=(8, 8), dpi=96)\n",
    "ax1 = fig.add_axes([0, 0, 1, 1])\n",
    "map = Basemap(ax=ax1)\n",
    "map.drawmapboundary(fill_color = 'aqua') #底色\n",
    "map.fillcontinents(color = 'coral', lake_color = 'aqua') # 陆地上色\n",
    "map.drawcoastlines()\n",
    "\n",
    "map.drawcoastlines()\n",
    "\n",
    "# TODO \n",
    "ax2 = fig.add_axes([0.2, 0.2, 0.1, 0.1])\n",
    "ax2.plot(x0, -x0)\n",
    "\n",
    "plt.show()"
   ]
  },
  {
   "source": [
    "# 5. 保存为图片"
   ],
   "cell_type": "markdown",
   "metadata": {}
  },
  {
   "cell_type": "code",
   "execution_count": null,
   "metadata": {},
   "outputs": [],
   "source": [
    "from mpl_toolkits.basemap import Basemap\n",
    "import matplotlib.pyplot as plt\n",
    "\n",
    "fig=plt.figure(figsize=(8, 8), dpi=96)\n",
    "ax = fig.add_axes([0.1, 0.1, 0.8, 0.8])\n",
    "\n",
    "map = Basemap(ax=ax)\n",
    "map.drawmapboundary(fill_color = 'aqua') #底色\n",
    "map.fillcontinents(color = 'coral', lake_color = 'aqua') # 陆地上色\n",
    "map.drawcoastlines()\n",
    "\n",
    "map.drawcoastlines()\n",
    "\n",
    "plt.savefig('t1.png')"
   ]
  }
 ]
}