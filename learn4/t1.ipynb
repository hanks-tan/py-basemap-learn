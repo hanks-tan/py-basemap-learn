{
 "metadata": {
  "language_info": {
   "codemirror_mode": {
    "name": "ipython",
    "version": 3
   },
   "file_extension": ".py",
   "mimetype": "text/x-python",
   "name": "python",
   "nbconvert_exporter": "python",
   "pygments_lexer": "ipython3",
   "version": "3.7.3"
  },
  "orig_nbformat": 2,
  "kernelspec": {
   "name": "python373jvsc74a57bd0b3ba2566441a7c06988d0923437866b63cedc61552a5af99d1f4fb67d367b25f",
   "display_name": "Python 3.7.3 64-bit ('base': conda)"
  }
 },
 "nbformat": 4,
 "nbformat_minor": 2,
 "cells": [
  {
   "source": [
    "# 1、numpy读取csv"
   ],
   "cell_type": "markdown",
   "metadata": {}
  },
  {
   "source": [
    "## 1.1 简单读取"
   ],
   "cell_type": "markdown",
   "metadata": {}
  },
  {
   "cell_type": "code",
   "execution_count": 6,
   "metadata": {},
   "outputs": [
    {
     "output_type": "stream",
     "name": "stdout",
     "text": [
      "[[5.40650e+04 1.25650e+02 4.45300e+01 ... 2.10000e+00 4.00000e+03\n  1.00460e+03]\n [5.86310e+04 1.18500e+02 2.89000e+01 ... 6.00000e-01 3.10000e+03\n  1.00530e+03]\n [5.76710e+04 1.12370e+02 2.88500e+01 ... 9.00000e-01 1.20000e+03\n  1.00530e+03]\n ...\n [5.95590e+04 1.20750e+02 2.20000e+01 ... 9.99999e+05 1.50000e+04\n  1.00810e+03]\n [5.89740e+04 1.22070e+02 2.56300e+01 ... 9.99999e+05 3.00000e+04\n  1.00700e+03]\n [5.89680e+04 1.21520e+02 2.50300e+01 ... 9.99999e+05 2.50000e+04\n  1.00640e+03]]\n"
     ]
    }
   ],
   "source": [
    "import numpy as np\n",
    "\n",
    "csv = '../data/d1.txt'\n",
    "\n",
    "with open(csv, encoding='utf-8') as f:\n",
    "    # 以float类型来读取数据，并跳过前3行\n",
    "    data = np.loadtxt(f,float,delimiter = \",\", skiprows = 3) \n",
    "\n",
    "print (data)"
   ]
  },
  {
   "source": [
    "## 1.2 数据清洗"
   ],
   "cell_type": "markdown",
   "metadata": {}
  },
  {
   "source": [
    "1) 异常值处理"
   ],
   "cell_type": "markdown",
   "metadata": {}
  },
  {
   "cell_type": "code",
   "execution_count": null,
   "metadata": {},
   "outputs": [],
   "source": []
  }
 ]
}